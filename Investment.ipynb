{
 "cells": [
  {
   "cell_type": "code",
   "execution_count": 1,
   "id": "e2a35bbe",
   "metadata": {},
   "outputs": [
    {
     "name": "stdout",
     "output_type": "stream",
     "text": [
      "<class 'pandas.core.frame.DataFrame'>\n",
      "RangeIndex: 66368 entries, 0 to 66367\n",
      "Data columns (total 10 columns):\n",
      " #   Column         Non-Null Count  Dtype \n",
      "---  ------         --------------  ----- \n",
      " 0   permalink      66368 non-null  object\n",
      " 1   name           66367 non-null  object\n",
      " 2   homepage_url   61310 non-null  object\n",
      " 3   category_list  63220 non-null  object\n",
      " 4   status         66368 non-null  object\n",
      " 5   country_code   59410 non-null  object\n",
      " 6   state_code     57821 non-null  object\n",
      " 7   region         58338 non-null  object\n",
      " 8   city           58340 non-null  object\n",
      " 9   founded_at     51147 non-null  object\n",
      "dtypes: object(10)\n",
      "memory usage: 5.1+ MB\n"
     ]
    }
   ],
   "source": [
    "# importing libraries as required\n",
    "import pandas as pd\n",
    "import numpy as np\n",
    "pd.options.display.float_format = '{:,.2f}'.format\n",
    "# Using the correct encoding format to read entries\n",
    "companies = pd.read_csv('./data/companies.csv', encoding=\"ISO-8859-1\")\n",
    "companies.info()"
   ]
  },
  {
   "cell_type": "code",
   "execution_count": 2,
   "id": "bc262a28",
   "metadata": {},
   "outputs": [
    {
     "data": {
      "text/html": [
       "<div>\n",
       "<style scoped>\n",
       "    .dataframe tbody tr th:only-of-type {\n",
       "        vertical-align: middle;\n",
       "    }\n",
       "\n",
       "    .dataframe tbody tr th {\n",
       "        vertical-align: top;\n",
       "    }\n",
       "\n",
       "    .dataframe thead th {\n",
       "        text-align: right;\n",
       "    }\n",
       "</style>\n",
       "<table border=\"1\" class=\"dataframe\">\n",
       "  <thead>\n",
       "    <tr style=\"text-align: right;\">\n",
       "      <th></th>\n",
       "      <th>permalink</th>\n",
       "      <th>name</th>\n",
       "      <th>homepage_url</th>\n",
       "      <th>category_list</th>\n",
       "      <th>status</th>\n",
       "      <th>country_code</th>\n",
       "      <th>state_code</th>\n",
       "      <th>region</th>\n",
       "      <th>city</th>\n",
       "      <th>founded_at</th>\n",
       "    </tr>\n",
       "  </thead>\n",
       "  <tbody>\n",
       "    <tr>\n",
       "      <th>count</th>\n",
       "      <td>66368</td>\n",
       "      <td>66367</td>\n",
       "      <td>61310</td>\n",
       "      <td>63220</td>\n",
       "      <td>66368</td>\n",
       "      <td>59410</td>\n",
       "      <td>57821</td>\n",
       "      <td>58338</td>\n",
       "      <td>58340</td>\n",
       "      <td>51147</td>\n",
       "    </tr>\n",
       "    <tr>\n",
       "      <th>unique</th>\n",
       "      <td>66368</td>\n",
       "      <td>66099</td>\n",
       "      <td>61191</td>\n",
       "      <td>27296</td>\n",
       "      <td>4</td>\n",
       "      <td>137</td>\n",
       "      <td>311</td>\n",
       "      <td>1092</td>\n",
       "      <td>5111</td>\n",
       "      <td>3978</td>\n",
       "    </tr>\n",
       "    <tr>\n",
       "      <th>top</th>\n",
       "      <td>/Organization/Boardz</td>\n",
       "      <td>Karma</td>\n",
       "      <td>http://www.askforoffer.com</td>\n",
       "      <td>Software</td>\n",
       "      <td>operating</td>\n",
       "      <td>USA</td>\n",
       "      <td>CA</td>\n",
       "      <td>SF Bay Area</td>\n",
       "      <td>San Francisco</td>\n",
       "      <td>01-01-2012</td>\n",
       "    </tr>\n",
       "    <tr>\n",
       "      <th>freq</th>\n",
       "      <td>1</td>\n",
       "      <td>4</td>\n",
       "      <td>5</td>\n",
       "      <td>3995</td>\n",
       "      <td>53034</td>\n",
       "      <td>37601</td>\n",
       "      <td>12900</td>\n",
       "      <td>8804</td>\n",
       "      <td>3526</td>\n",
       "      <td>2730</td>\n",
       "    </tr>\n",
       "  </tbody>\n",
       "</table>\n",
       "</div>"
      ],
      "text/plain": [
       "                   permalink   name                homepage_url category_list  \\\n",
       "count                  66368  66367                       61310         63220   \n",
       "unique                 66368  66099                       61191         27296   \n",
       "top     /Organization/Boardz  Karma  http://www.askforoffer.com      Software   \n",
       "freq                       1      4                           5          3995   \n",
       "\n",
       "           status country_code state_code       region           city  \\\n",
       "count       66368        59410      57821        58338          58340   \n",
       "unique          4          137        311         1092           5111   \n",
       "top     operating          USA         CA  SF Bay Area  San Francisco   \n",
       "freq        53034        37601      12900         8804           3526   \n",
       "\n",
       "        founded_at  \n",
       "count        51147  \n",
       "unique        3978  \n",
       "top     01-01-2012  \n",
       "freq          2730  "
      ]
     },
     "execution_count": 2,
     "metadata": {},
     "output_type": "execute_result"
    }
   ],
   "source": [
    "# overview of dataframe\n",
    "companies.describe()"
   ]
  },
  {
   "cell_type": "code",
   "execution_count": 3,
   "id": "fee09950",
   "metadata": {},
   "outputs": [
    {
     "name": "stdout",
     "output_type": "stream",
     "text": [
      "66368\n",
      "permalink            0\n",
      "name                 1\n",
      "homepage_url      5058\n",
      "category_list     3148\n",
      "status               0\n",
      "country_code      6958\n",
      "state_code        8547\n",
      "region            8030\n",
      "city              8028\n",
      "founded_at       15221\n",
      "dtype: int64\n"
     ]
    }
   ],
   "source": [
    "# Checking unique values in company names\n",
    "companies_companies = companies['permalink'].nunique(dropna = True)\n",
    "print(companies_companies)\n",
    "print(companies.isna().sum())"
   ]
  },
  {
   "cell_type": "code",
   "execution_count": 4,
   "id": "805f4bd0",
   "metadata": {},
   "outputs": [
    {
     "name": "stdout",
     "output_type": "stream",
     "text": [
      "<class 'pandas.core.frame.DataFrame'>\n",
      "RangeIndex: 114949 entries, 0 to 114948\n",
      "Data columns (total 6 columns):\n",
      " #   Column                   Non-Null Count   Dtype  \n",
      "---  ------                   --------------   -----  \n",
      " 0   company_permalink        114949 non-null  object \n",
      " 1   funding_round_permalink  114949 non-null  object \n",
      " 2   funding_round_type       114949 non-null  object \n",
      " 3   funding_round_code       31140 non-null   object \n",
      " 4   funded_at                114949 non-null  object \n",
      " 5   raised_amount_usd        94959 non-null   float64\n",
      "dtypes: float64(1), object(5)\n",
      "memory usage: 5.3+ MB\n"
     ]
    }
   ],
   "source": [
    "# Reading rounds2 data file with correct encoding\n",
    "rounds2 = pd.read_csv('./data/rounds2.csv', encoding=\"ISO-8859-1\")\n",
    "rounds2.info()"
   ]
  },
  {
   "cell_type": "code",
   "execution_count": 5,
   "id": "02346461",
   "metadata": {},
   "outputs": [
    {
     "data": {
      "text/plain": [
       "count                       114949\n",
       "unique                       90247\n",
       "top       /ORGANIZATION/SOLARFLARE\n",
       "freq                            10\n",
       "Name: company_permalink, dtype: object"
      ]
     },
     "execution_count": 5,
     "metadata": {},
     "output_type": "execute_result"
    }
   ],
   "source": [
    "rounds2.company_permalink.describe()"
   ]
  },
  {
   "cell_type": "code",
   "execution_count": 6,
   "id": "997199d2",
   "metadata": {},
   "outputs": [
    {
     "name": "stdout",
     "output_type": "stream",
     "text": [
      "90247\n",
      "company_permalink          False\n",
      "funding_round_permalink    False\n",
      "funding_round_type         False\n",
      "funding_round_code          True\n",
      "funded_at                  False\n",
      "raised_amount_usd           True\n",
      "dtype: bool\n"
     ]
    }
   ],
   "source": [
    "companies_round2 = rounds2['company_permalink'].nunique(dropna = True)\n",
    "print(companies_round2)\n",
    "print(rounds2.isnull().any())"
   ]
  },
  {
   "cell_type": "code",
   "execution_count": 7,
   "id": "6ee4644c",
   "metadata": {},
   "outputs": [],
   "source": [
    "# Visual examination revealed inconsistent case so we make these columns lower-case\n",
    "# This is important as they are used as primary keys\n",
    "companies['permalink'] = companies['permalink'].str.lower()\n",
    "rounds2['company_permalink'] = rounds2['company_permalink'].str.lower()"
   ]
  },
  {
   "cell_type": "code",
   "execution_count": 8,
   "id": "b67b5bed",
   "metadata": {},
   "outputs": [
    {
     "name": "stdout",
     "output_type": "stream",
     "text": [
      "66368\n",
      "66370\n"
     ]
    }
   ],
   "source": [
    "# We compare number of entries\n",
    "companies_companies = companies['permalink'].nunique(dropna = True)\n",
    "print(companies_companies)\n",
    "companies_round2 = rounds2['company_permalink'].nunique(dropna = True)\n",
    "print(companies_round2)\n"
   ]
  },
  {
   "cell_type": "code",
   "execution_count": 9,
   "id": "e8fb2830",
   "metadata": {},
   "outputs": [
    {
     "name": "stdout",
     "output_type": "stream",
     "text": [
      "{'/organization/zengame-ç¦\\x85æ¸¸ç§\\x91æ\\x8a\\x80', '/organization/tipcat-interactive-æ²\\x99è\\x88ÿä¿¡æ\\x81¯ç§\\x91æ\\x9a\\x80', '/organization/magnet-tech-ç£\\x81ç\\x9f³ç§\\x91æ\\x8a\\x80', '/organization/weiche-tech-å\\x96\\x82è½¦ç§\\x91æ\\x8a\\x80', '/organization/huizuche-com-æ\\x83\\xa0ç§ÿè½¦', '/organization/energystone-games-ç\\x81µç\\x9f³æ¸¸æ\\x88\\x8f', '/organization/e-cã\\x8abica'}\n"
     ]
    }
   ],
   "source": [
    "# Trying to check garbage values\n",
    "set_companies = set(companies['permalink'].unique())\n",
    "set_rounds2 = set(rounds2['company_permalink'].unique())\n",
    "missing_in_companies = set_rounds2 - set_companies\n",
    "print(missing_in_companies)"
   ]
  },
  {
   "cell_type": "code",
   "execution_count": 10,
   "id": "ebb7b043",
   "metadata": {},
   "outputs": [
    {
     "data": {
      "text/html": [
       "<div>\n",
       "<style scoped>\n",
       "    .dataframe tbody tr th:only-of-type {\n",
       "        vertical-align: middle;\n",
       "    }\n",
       "\n",
       "    .dataframe tbody tr th {\n",
       "        vertical-align: top;\n",
       "    }\n",
       "\n",
       "    .dataframe thead th {\n",
       "        text-align: right;\n",
       "    }\n",
       "</style>\n",
       "<table border=\"1\" class=\"dataframe\">\n",
       "  <thead>\n",
       "    <tr style=\"text-align: right;\">\n",
       "      <th></th>\n",
       "      <th>company_permalink</th>\n",
       "      <th>funding_round_permalink</th>\n",
       "      <th>funding_round_type</th>\n",
       "      <th>funding_round_code</th>\n",
       "      <th>funded_at</th>\n",
       "      <th>raised_amount_usd</th>\n",
       "      <th>permalink</th>\n",
       "      <th>name</th>\n",
       "      <th>homepage_url</th>\n",
       "      <th>category_list</th>\n",
       "      <th>status</th>\n",
       "      <th>country_code</th>\n",
       "      <th>state_code</th>\n",
       "      <th>region</th>\n",
       "      <th>city</th>\n",
       "      <th>founded_at</th>\n",
       "    </tr>\n",
       "  </thead>\n",
       "  <tbody>\n",
       "    <tr>\n",
       "      <th>0</th>\n",
       "      <td>/organization/-fame</td>\n",
       "      <td>/funding-round/9a01d05418af9f794eebff7ace91f638</td>\n",
       "      <td>venture</td>\n",
       "      <td>B</td>\n",
       "      <td>05-01-2015</td>\n",
       "      <td>10,000,000.00</td>\n",
       "      <td>/organization/-fame</td>\n",
       "      <td>#fame</td>\n",
       "      <td>http://livfame.com</td>\n",
       "      <td>Media</td>\n",
       "      <td>operating</td>\n",
       "      <td>IND</td>\n",
       "      <td>16</td>\n",
       "      <td>Mumbai</td>\n",
       "      <td>Mumbai</td>\n",
       "      <td>NaN</td>\n",
       "    </tr>\n",
       "    <tr>\n",
       "      <th>1</th>\n",
       "      <td>/organization/-qounter</td>\n",
       "      <td>/funding-round/22dacff496eb7acb2b901dec1dfe5633</td>\n",
       "      <td>venture</td>\n",
       "      <td>A</td>\n",
       "      <td>14-10-2014</td>\n",
       "      <td>NaN</td>\n",
       "      <td>/organization/-qounter</td>\n",
       "      <td>:Qounter</td>\n",
       "      <td>http://www.qounter.com</td>\n",
       "      <td>Application Platforms|Real Time|Social Network...</td>\n",
       "      <td>operating</td>\n",
       "      <td>USA</td>\n",
       "      <td>DE</td>\n",
       "      <td>DE - Other</td>\n",
       "      <td>Delaware City</td>\n",
       "      <td>04-09-2014</td>\n",
       "    </tr>\n",
       "    <tr>\n",
       "      <th>2</th>\n",
       "      <td>/organization/-qounter</td>\n",
       "      <td>/funding-round/b44fbb94153f6cdef13083530bb48030</td>\n",
       "      <td>seed</td>\n",
       "      <td>NaN</td>\n",
       "      <td>01-03-2014</td>\n",
       "      <td>700,000.00</td>\n",
       "      <td>/organization/-qounter</td>\n",
       "      <td>:Qounter</td>\n",
       "      <td>http://www.qounter.com</td>\n",
       "      <td>Application Platforms|Real Time|Social Network...</td>\n",
       "      <td>operating</td>\n",
       "      <td>USA</td>\n",
       "      <td>DE</td>\n",
       "      <td>DE - Other</td>\n",
       "      <td>Delaware City</td>\n",
       "      <td>04-09-2014</td>\n",
       "    </tr>\n",
       "    <tr>\n",
       "      <th>3</th>\n",
       "      <td>/organization/-the-one-of-them-inc-</td>\n",
       "      <td>/funding-round/650b8f704416801069bb178a1418776b</td>\n",
       "      <td>venture</td>\n",
       "      <td>B</td>\n",
       "      <td>30-01-2014</td>\n",
       "      <td>3,406,878.00</td>\n",
       "      <td>/organization/-the-one-of-them-inc-</td>\n",
       "      <td>(THE) ONE of THEM,Inc.</td>\n",
       "      <td>http://oneofthem.jp</td>\n",
       "      <td>Apps|Games|Mobile</td>\n",
       "      <td>operating</td>\n",
       "      <td>NaN</td>\n",
       "      <td>NaN</td>\n",
       "      <td>NaN</td>\n",
       "      <td>NaN</td>\n",
       "      <td>NaN</td>\n",
       "    </tr>\n",
       "    <tr>\n",
       "      <th>4</th>\n",
       "      <td>/organization/0-6-com</td>\n",
       "      <td>/funding-round/5727accaeaa57461bd22a9bdd945382d</td>\n",
       "      <td>venture</td>\n",
       "      <td>A</td>\n",
       "      <td>19-03-2008</td>\n",
       "      <td>2,000,000.00</td>\n",
       "      <td>/organization/0-6-com</td>\n",
       "      <td>0-6.com</td>\n",
       "      <td>http://www.0-6.com</td>\n",
       "      <td>Curated Web</td>\n",
       "      <td>operating</td>\n",
       "      <td>CHN</td>\n",
       "      <td>22</td>\n",
       "      <td>Beijing</td>\n",
       "      <td>Beijing</td>\n",
       "      <td>01-01-2007</td>\n",
       "    </tr>\n",
       "    <tr>\n",
       "      <th>...</th>\n",
       "      <td>...</td>\n",
       "      <td>...</td>\n",
       "      <td>...</td>\n",
       "      <td>...</td>\n",
       "      <td>...</td>\n",
       "      <td>...</td>\n",
       "      <td>...</td>\n",
       "      <td>...</td>\n",
       "      <td>...</td>\n",
       "      <td>...</td>\n",
       "      <td>...</td>\n",
       "      <td>...</td>\n",
       "      <td>...</td>\n",
       "      <td>...</td>\n",
       "      <td>...</td>\n",
       "      <td>...</td>\n",
       "    </tr>\n",
       "    <tr>\n",
       "      <th>114937</th>\n",
       "      <td>/organization/zzzzapp-com</td>\n",
       "      <td>/funding-round/8f6d25b8ee4199e586484d817bceda05</td>\n",
       "      <td>convertible_note</td>\n",
       "      <td>NaN</td>\n",
       "      <td>01-03-2014</td>\n",
       "      <td>41,313.00</td>\n",
       "      <td>/organization/zzzzapp-com</td>\n",
       "      <td>Zzzzapp Wireless ltd.</td>\n",
       "      <td>http://www.zzzzapp.com</td>\n",
       "      <td>Advertising|Mobile|Web Development|Wireless</td>\n",
       "      <td>operating</td>\n",
       "      <td>HRV</td>\n",
       "      <td>15</td>\n",
       "      <td>Split</td>\n",
       "      <td>Split</td>\n",
       "      <td>13-05-2012</td>\n",
       "    </tr>\n",
       "    <tr>\n",
       "      <th>114938</th>\n",
       "      <td>/organization/zzzzapp-com</td>\n",
       "      <td>/funding-round/ff1aa06ed5da186c84f101549035d4ae</td>\n",
       "      <td>seed</td>\n",
       "      <td>NaN</td>\n",
       "      <td>01-05-2013</td>\n",
       "      <td>32,842.00</td>\n",
       "      <td>/organization/zzzzapp-com</td>\n",
       "      <td>Zzzzapp Wireless ltd.</td>\n",
       "      <td>http://www.zzzzapp.com</td>\n",
       "      <td>Advertising|Mobile|Web Development|Wireless</td>\n",
       "      <td>operating</td>\n",
       "      <td>HRV</td>\n",
       "      <td>15</td>\n",
       "      <td>Split</td>\n",
       "      <td>Split</td>\n",
       "      <td>13-05-2012</td>\n",
       "    </tr>\n",
       "    <tr>\n",
       "      <th>114939</th>\n",
       "      <td>/organization/ãeron</td>\n",
       "      <td>/funding-round/59f4dce44723b794f21ded3daed6e4fe</td>\n",
       "      <td>venture</td>\n",
       "      <td>A</td>\n",
       "      <td>01-08-2014</td>\n",
       "      <td>NaN</td>\n",
       "      <td>/organization/ãeron</td>\n",
       "      <td>ÃERON</td>\n",
       "      <td>http://www.aeron.hu/</td>\n",
       "      <td>NaN</td>\n",
       "      <td>operating</td>\n",
       "      <td>NaN</td>\n",
       "      <td>NaN</td>\n",
       "      <td>NaN</td>\n",
       "      <td>NaN</td>\n",
       "      <td>01-01-2011</td>\n",
       "    </tr>\n",
       "    <tr>\n",
       "      <th>114940</th>\n",
       "      <td>/organization/ãasys-2</td>\n",
       "      <td>/funding-round/35f09d0794651719b02bbfd859ba9ff5</td>\n",
       "      <td>seed</td>\n",
       "      <td>NaN</td>\n",
       "      <td>01-01-2015</td>\n",
       "      <td>18,192.00</td>\n",
       "      <td>/organization/ãasys-2</td>\n",
       "      <td>Ãasys</td>\n",
       "      <td>http://www.oasys.io/</td>\n",
       "      <td>Consumer Electronics|Internet of Things|Teleco...</td>\n",
       "      <td>operating</td>\n",
       "      <td>USA</td>\n",
       "      <td>CA</td>\n",
       "      <td>SF Bay Area</td>\n",
       "      <td>San Francisco</td>\n",
       "      <td>01-01-2014</td>\n",
       "    </tr>\n",
       "    <tr>\n",
       "      <th>114941</th>\n",
       "      <td>/organization/ä°novatiff-reklam-ve-tanä±tä±m-h...</td>\n",
       "      <td>/funding-round/af942869878d2cd788ef5189b435ebc4</td>\n",
       "      <td>grant</td>\n",
       "      <td>NaN</td>\n",
       "      <td>01-10-2013</td>\n",
       "      <td>14,851.00</td>\n",
       "      <td>/organization/ä°novatiff-reklam-ve-tanä±tä±m-h...</td>\n",
       "      <td>Ä°novatiff Reklam ve TanÄ±tÄ±m Hizmetleri Tic</td>\n",
       "      <td>http://inovatiff.com</td>\n",
       "      <td>Consumer Goods|E-Commerce|Internet</td>\n",
       "      <td>operating</td>\n",
       "      <td>NaN</td>\n",
       "      <td>NaN</td>\n",
       "      <td>NaN</td>\n",
       "      <td>NaN</td>\n",
       "      <td>NaN</td>\n",
       "    </tr>\n",
       "  </tbody>\n",
       "</table>\n",
       "<p>114942 rows × 16 columns</p>\n",
       "</div>"
      ],
      "text/plain": [
       "                                        company_permalink  \\\n",
       "0                                     /organization/-fame   \n",
       "1                                  /organization/-qounter   \n",
       "2                                  /organization/-qounter   \n",
       "3                     /organization/-the-one-of-them-inc-   \n",
       "4                                   /organization/0-6-com   \n",
       "...                                                   ...   \n",
       "114937                          /organization/zzzzapp-com   \n",
       "114938                          /organization/zzzzapp-com   \n",
       "114939                               /organization/ãeron   \n",
       "114940                             /organization/ãasys-2   \n",
       "114941  /organization/ä°novatiff-reklam-ve-tanä±tä±m-h...   \n",
       "\n",
       "                                funding_round_permalink funding_round_type  \\\n",
       "0       /funding-round/9a01d05418af9f794eebff7ace91f638            venture   \n",
       "1       /funding-round/22dacff496eb7acb2b901dec1dfe5633            venture   \n",
       "2       /funding-round/b44fbb94153f6cdef13083530bb48030               seed   \n",
       "3       /funding-round/650b8f704416801069bb178a1418776b            venture   \n",
       "4       /funding-round/5727accaeaa57461bd22a9bdd945382d            venture   \n",
       "...                                                 ...                ...   \n",
       "114937  /funding-round/8f6d25b8ee4199e586484d817bceda05   convertible_note   \n",
       "114938  /funding-round/ff1aa06ed5da186c84f101549035d4ae               seed   \n",
       "114939  /funding-round/59f4dce44723b794f21ded3daed6e4fe            venture   \n",
       "114940  /funding-round/35f09d0794651719b02bbfd859ba9ff5               seed   \n",
       "114941  /funding-round/af942869878d2cd788ef5189b435ebc4              grant   \n",
       "\n",
       "       funding_round_code   funded_at  raised_amount_usd  \\\n",
       "0                       B  05-01-2015      10,000,000.00   \n",
       "1                       A  14-10-2014                NaN   \n",
       "2                     NaN  01-03-2014         700,000.00   \n",
       "3                       B  30-01-2014       3,406,878.00   \n",
       "4                       A  19-03-2008       2,000,000.00   \n",
       "...                   ...         ...                ...   \n",
       "114937                NaN  01-03-2014          41,313.00   \n",
       "114938                NaN  01-05-2013          32,842.00   \n",
       "114939                  A  01-08-2014                NaN   \n",
       "114940                NaN  01-01-2015          18,192.00   \n",
       "114941                NaN  01-10-2013          14,851.00   \n",
       "\n",
       "                                                permalink  \\\n",
       "0                                     /organization/-fame   \n",
       "1                                  /organization/-qounter   \n",
       "2                                  /organization/-qounter   \n",
       "3                     /organization/-the-one-of-them-inc-   \n",
       "4                                   /organization/0-6-com   \n",
       "...                                                   ...   \n",
       "114937                          /organization/zzzzapp-com   \n",
       "114938                          /organization/zzzzapp-com   \n",
       "114939                               /organization/ãeron   \n",
       "114940                             /organization/ãasys-2   \n",
       "114941  /organization/ä°novatiff-reklam-ve-tanä±tä±m-h...   \n",
       "\n",
       "                                                 name            homepage_url  \\\n",
       "0                                               #fame      http://livfame.com   \n",
       "1                                            :Qounter  http://www.qounter.com   \n",
       "2                                            :Qounter  http://www.qounter.com   \n",
       "3                              (THE) ONE of THEM,Inc.     http://oneofthem.jp   \n",
       "4                                             0-6.com      http://www.0-6.com   \n",
       "...                                               ...                     ...   \n",
       "114937                          Zzzzapp Wireless ltd.  http://www.zzzzapp.com   \n",
       "114938                          Zzzzapp Wireless ltd.  http://www.zzzzapp.com   \n",
       "114939                                         ÃERON    http://www.aeron.hu/   \n",
       "114940                                         Ãasys    http://www.oasys.io/   \n",
       "114941  Ä°novatiff Reklam ve TanÄ±tÄ±m Hizmetleri Tic    http://inovatiff.com   \n",
       "\n",
       "                                            category_list     status  \\\n",
       "0                                                   Media  operating   \n",
       "1       Application Platforms|Real Time|Social Network...  operating   \n",
       "2       Application Platforms|Real Time|Social Network...  operating   \n",
       "3                                       Apps|Games|Mobile  operating   \n",
       "4                                             Curated Web  operating   \n",
       "...                                                   ...        ...   \n",
       "114937        Advertising|Mobile|Web Development|Wireless  operating   \n",
       "114938        Advertising|Mobile|Web Development|Wireless  operating   \n",
       "114939                                                NaN  operating   \n",
       "114940  Consumer Electronics|Internet of Things|Teleco...  operating   \n",
       "114941                 Consumer Goods|E-Commerce|Internet  operating   \n",
       "\n",
       "       country_code state_code       region           city  founded_at  \n",
       "0               IND         16       Mumbai         Mumbai         NaN  \n",
       "1               USA         DE   DE - Other  Delaware City  04-09-2014  \n",
       "2               USA         DE   DE - Other  Delaware City  04-09-2014  \n",
       "3               NaN        NaN          NaN            NaN         NaN  \n",
       "4               CHN         22      Beijing        Beijing  01-01-2007  \n",
       "...             ...        ...          ...            ...         ...  \n",
       "114937          HRV         15        Split          Split  13-05-2012  \n",
       "114938          HRV         15        Split          Split  13-05-2012  \n",
       "114939          NaN        NaN          NaN            NaN  01-01-2011  \n",
       "114940          USA         CA  SF Bay Area  San Francisco  01-01-2014  \n",
       "114941          NaN        NaN          NaN            NaN         NaN  \n",
       "\n",
       "[114942 rows x 16 columns]"
      ]
     },
     "execution_count": 10,
     "metadata": {},
     "output_type": "execute_result"
    }
   ],
   "source": [
    "# Performing an inner merge. A join could also have been used.\n",
    "master_frame = pd.merge(rounds2, companies , how='inner', left_on = 'company_permalink', right_on = 'permalink')\n",
    "master_frame.shape\n",
    "master_frame"
   ]
  },
  {
   "cell_type": "code",
   "execution_count": 11,
   "id": "77a9dd6a",
   "metadata": {},
   "outputs": [
    {
     "name": "stdout",
     "output_type": "stream",
     "text": [
      "<class 'pandas.core.frame.DataFrame'>\n",
      "Int64Index: 114942 entries, 0 to 114941\n",
      "Data columns (total 16 columns):\n",
      " #   Column                   Non-Null Count   Dtype  \n",
      "---  ------                   --------------   -----  \n",
      " 0   company_permalink        114942 non-null  object \n",
      " 1   funding_round_permalink  114942 non-null  object \n",
      " 2   funding_round_type       114942 non-null  object \n",
      " 3   funding_round_code       31139 non-null   object \n",
      " 4   funded_at                114942 non-null  object \n",
      " 5   raised_amount_usd        94958 non-null   float64\n",
      " 6   permalink                114942 non-null  object \n",
      " 7   name                     114941 non-null  object \n",
      " 8   homepage_url             108810 non-null  object \n",
      " 9   category_list            111535 non-null  object \n",
      " 10  status                   114942 non-null  object \n",
      " 11  country_code             106271 non-null  object \n",
      " 12  state_code               104003 non-null  object \n",
      " 13  region                   104782 non-null  object \n",
      " 14  city                     104785 non-null  object \n",
      " 15  founded_at               94422 non-null   object \n",
      "dtypes: float64(1), object(15)\n",
      "memory usage: 14.9+ MB\n"
     ]
    }
   ],
   "source": [
    "# Getting useful stats from the data\n",
    "master_frame.info()"
   ]
  },
  {
   "cell_type": "code",
   "execution_count": 12,
   "id": "4217cf33",
   "metadata": {},
   "outputs": [
    {
     "data": {
      "text/plain": [
       "company_permalink          False\n",
       "funding_round_permalink    False\n",
       "funding_round_type         False\n",
       "funding_round_code          True\n",
       "funded_at                  False\n",
       "raised_amount_usd           True\n",
       "permalink                  False\n",
       "name                        True\n",
       "homepage_url                True\n",
       "category_list               True\n",
       "status                     False\n",
       "country_code                True\n",
       "state_code                  True\n",
       "region                      True\n",
       "city                        True\n",
       "founded_at                  True\n",
       "dtype: bool"
      ]
     },
     "execution_count": 12,
     "metadata": {},
     "output_type": "execute_result"
    }
   ],
   "source": [
    "# Checking for null values\n",
    "master_frame.isnull().any()"
   ]
  },
  {
   "cell_type": "code",
   "execution_count": 13,
   "id": "cfd32925",
   "metadata": {},
   "outputs": [
    {
     "data": {
      "text/plain": [
       "company_permalink              0\n",
       "funding_round_permalink        0\n",
       "funding_round_type             0\n",
       "funding_round_code         83803\n",
       "funded_at                      0\n",
       "raised_amount_usd          19984\n",
       "permalink                      0\n",
       "name                           1\n",
       "homepage_url                6132\n",
       "category_list               3407\n",
       "status                         0\n",
       "country_code                8671\n",
       "state_code                 10939\n",
       "region                     10160\n",
       "city                       10157\n",
       "founded_at                 20520\n",
       "dtype: int64"
      ]
     },
     "execution_count": 13,
     "metadata": {},
     "output_type": "execute_result"
    }
   ],
   "source": [
    "# Counts of null values\n",
    "master_frame.isnull().sum()"
   ]
  },
  {
   "cell_type": "code",
   "execution_count": 14,
   "id": "98adbdc7",
   "metadata": {},
   "outputs": [
    {
     "data": {
      "text/plain": [
       "company_permalink          0.00\n",
       "funding_round_permalink    0.00\n",
       "funding_round_type         0.00\n",
       "funding_round_code        72.91\n",
       "funded_at                  0.00\n",
       "raised_amount_usd         17.39\n",
       "permalink                  0.00\n",
       "name                       0.00\n",
       "homepage_url               5.33\n",
       "category_list              2.96\n",
       "status                     0.00\n",
       "country_code               7.54\n",
       "state_code                 9.52\n",
       "region                     8.84\n",
       "city                       8.84\n",
       "founded_at                17.85\n",
       "dtype: float64"
      ]
     },
     "execution_count": 14,
     "metadata": {},
     "output_type": "execute_result"
    }
   ],
   "source": [
    "# Percentage of null values\n",
    "round((master_frame.isnull().sum()*100/len(master_frame.index)), 2)"
   ]
  },
  {
   "cell_type": "code",
   "execution_count": 15,
   "id": "809a67bd",
   "metadata": {},
   "outputs": [],
   "source": [
    "# Dropping irrelevant columns\n",
    "master_frame = master_frame.drop('funding_round_code', axis=1)\n",
    "master_frame = master_frame.drop('founded_at', axis=1)\n",
    "master_frame = master_frame.drop('homepage_url', axis=1)\n",
    "master_frame = master_frame.drop('state_code', axis=1)\n",
    "master_frame = master_frame.drop('region', axis=1)\n",
    "master_frame = master_frame.drop('city', axis=1)"
   ]
  },
  {
   "cell_type": "code",
   "execution_count": 16,
   "id": "55e55b73",
   "metadata": {},
   "outputs": [
    {
     "data": {
      "text/plain": [
       "company_permalink         0.00\n",
       "funding_round_permalink   0.00\n",
       "funding_round_type        0.00\n",
       "funded_at                 0.00\n",
       "raised_amount_usd         0.00\n",
       "permalink                 0.00\n",
       "name                      0.00\n",
       "category_list             1.10\n",
       "status                    0.00\n",
       "country_code              6.16\n",
       "dtype: float64"
      ]
     },
     "execution_count": 16,
     "metadata": {},
     "output_type": "execute_result"
    }
   ],
   "source": [
    "master_frame = master_frame.dropna(subset=['raised_amount_usd'])\n",
    "round((master_frame.isnull().sum()*100/len(master_frame.index)), 2)"
   ]
  },
  {
   "cell_type": "markdown",
   "id": "669bcfca",
   "metadata": {},
   "source": [
    "Checkpoint 1 XXXXXXXXXXXXXXXXXXXXXXXXXXXXXXXXXXXXXXXXXXXXXXXX\n"
   ]
  },
  {
   "cell_type": "code",
   "execution_count": 17,
   "id": "930022d1",
   "metadata": {},
   "outputs": [
    {
     "data": {
      "text/plain": [
       "venture                  50228\n",
       "seed                     23602\n",
       "debt_financing            6682\n",
       "angel                     4860\n",
       "grant                     2124\n",
       "private_equity            1936\n",
       "undisclosed               1582\n",
       "convertible_note          1447\n",
       "equity_crowdfunding       1228\n",
       "post_ipo_equity            628\n",
       "product_crowdfunding       386\n",
       "post_ipo_debt              152\n",
       "non_equity_assistance       73\n",
       "secondary_market            30\n",
       "Name: funding_round_type, dtype: int64"
      ]
     },
     "execution_count": 17,
     "metadata": {},
     "output_type": "execute_result"
    }
   ],
   "source": [
    "master_frame['funding_round_type'].value_counts()"
   ]
  },
  {
   "cell_type": "code",
   "execution_count": 18,
   "id": "e4c204e1",
   "metadata": {},
   "outputs": [],
   "source": [
    "# Pivot tables can be used instead of groupby, although for fun, I've used both!\n",
    "# We check the amounts raised using mean and median as estimators\n",
    "funding_type_median = pd.pivot_table(data=master_frame,index=['funding_round_type'], values = 'raised_amount_usd', aggfunc = 'median')\n",
    "funding_type_mean = pd.pivot_table(data=master_frame,index=['funding_round_type'], values = 'raised_amount_usd', aggfunc = 'mean')"
   ]
  },
  {
   "cell_type": "code",
   "execution_count": 19,
   "id": "19f76f2a",
   "metadata": {
    "scrolled": false
   },
   "outputs": [
    {
     "data": {
      "text/html": [
       "<div>\n",
       "<style scoped>\n",
       "    .dataframe tbody tr th:only-of-type {\n",
       "        vertical-align: middle;\n",
       "    }\n",
       "\n",
       "    .dataframe tbody tr th {\n",
       "        vertical-align: top;\n",
       "    }\n",
       "\n",
       "    .dataframe thead th {\n",
       "        text-align: right;\n",
       "    }\n",
       "</style>\n",
       "<table border=\"1\" class=\"dataframe\">\n",
       "  <thead>\n",
       "    <tr style=\"text-align: right;\">\n",
       "      <th></th>\n",
       "      <th>raised_amount_usd</th>\n",
       "    </tr>\n",
       "    <tr>\n",
       "      <th>funding_round_type</th>\n",
       "      <th></th>\n",
       "    </tr>\n",
       "  </thead>\n",
       "  <tbody>\n",
       "    <tr>\n",
       "      <th>secondary_market</th>\n",
       "      <td>32,600,000.00</td>\n",
       "    </tr>\n",
       "    <tr>\n",
       "      <th>private_equity</th>\n",
       "      <td>20,000,000.00</td>\n",
       "    </tr>\n",
       "    <tr>\n",
       "      <th>post_ipo_debt</th>\n",
       "      <td>19,950,000.00</td>\n",
       "    </tr>\n",
       "    <tr>\n",
       "      <th>post_ipo_equity</th>\n",
       "      <td>12,262,852.50</td>\n",
       "    </tr>\n",
       "    <tr>\n",
       "      <th>venture</th>\n",
       "      <td>5,000,000.00</td>\n",
       "    </tr>\n",
       "    <tr>\n",
       "      <th>debt_financing</th>\n",
       "      <td>1,100,000.00</td>\n",
       "    </tr>\n",
       "    <tr>\n",
       "      <th>undisclosed</th>\n",
       "      <td>1,018,680.00</td>\n",
       "    </tr>\n",
       "    <tr>\n",
       "      <th>angel</th>\n",
       "      <td>400,000.00</td>\n",
       "    </tr>\n",
       "    <tr>\n",
       "      <th>seed</th>\n",
       "      <td>275,000.00</td>\n",
       "    </tr>\n",
       "    <tr>\n",
       "      <th>convertible_note</th>\n",
       "      <td>272,000.00</td>\n",
       "    </tr>\n",
       "    <tr>\n",
       "      <th>grant</th>\n",
       "      <td>201,684.00</td>\n",
       "    </tr>\n",
       "    <tr>\n",
       "      <th>product_crowdfunding</th>\n",
       "      <td>183,915.00</td>\n",
       "    </tr>\n",
       "    <tr>\n",
       "      <th>equity_crowdfunding</th>\n",
       "      <td>100,000.00</td>\n",
       "    </tr>\n",
       "    <tr>\n",
       "      <th>non_equity_assistance</th>\n",
       "      <td>60,000.00</td>\n",
       "    </tr>\n",
       "  </tbody>\n",
       "</table>\n",
       "</div>"
      ],
      "text/plain": [
       "                       raised_amount_usd\n",
       "funding_round_type                      \n",
       "secondary_market           32,600,000.00\n",
       "private_equity             20,000,000.00\n",
       "post_ipo_debt              19,950,000.00\n",
       "post_ipo_equity            12,262,852.50\n",
       "venture                     5,000,000.00\n",
       "debt_financing              1,100,000.00\n",
       "undisclosed                 1,018,680.00\n",
       "angel                         400,000.00\n",
       "seed                          275,000.00\n",
       "convertible_note              272,000.00\n",
       "grant                         201,684.00\n",
       "product_crowdfunding          183,915.00\n",
       "equity_crowdfunding           100,000.00\n",
       "non_equity_assistance          60,000.00"
      ]
     },
     "execution_count": 19,
     "metadata": {},
     "output_type": "execute_result"
    }
   ],
   "source": [
    "funding_type_median.sort_values(by='raised_amount_usd', ascending=False)"
   ]
  },
  {
   "cell_type": "code",
   "execution_count": 20,
   "id": "fe68534e",
   "metadata": {},
   "outputs": [
    {
     "data": {
      "text/html": [
       "<div>\n",
       "<style scoped>\n",
       "    .dataframe tbody tr th:only-of-type {\n",
       "        vertical-align: middle;\n",
       "    }\n",
       "\n",
       "    .dataframe tbody tr th {\n",
       "        vertical-align: top;\n",
       "    }\n",
       "\n",
       "    .dataframe thead th {\n",
       "        text-align: right;\n",
       "    }\n",
       "</style>\n",
       "<table border=\"1\" class=\"dataframe\">\n",
       "  <thead>\n",
       "    <tr style=\"text-align: right;\">\n",
       "      <th></th>\n",
       "      <th>raised_amount_usd</th>\n",
       "    </tr>\n",
       "    <tr>\n",
       "      <th>funding_round_type</th>\n",
       "      <th></th>\n",
       "    </tr>\n",
       "  </thead>\n",
       "  <tbody>\n",
       "    <tr>\n",
       "      <th>post_ipo_debt</th>\n",
       "      <td>168,704,571.82</td>\n",
       "    </tr>\n",
       "    <tr>\n",
       "      <th>post_ipo_equity</th>\n",
       "      <td>82,182,493.87</td>\n",
       "    </tr>\n",
       "    <tr>\n",
       "      <th>secondary_market</th>\n",
       "      <td>79,649,630.10</td>\n",
       "    </tr>\n",
       "    <tr>\n",
       "      <th>private_equity</th>\n",
       "      <td>73,308,593.03</td>\n",
       "    </tr>\n",
       "    <tr>\n",
       "      <th>undisclosed</th>\n",
       "      <td>19,242,370.23</td>\n",
       "    </tr>\n",
       "    <tr>\n",
       "      <th>debt_financing</th>\n",
       "      <td>17,043,526.02</td>\n",
       "    </tr>\n",
       "    <tr>\n",
       "      <th>venture</th>\n",
       "      <td>11,748,949.13</td>\n",
       "    </tr>\n",
       "    <tr>\n",
       "      <th>grant</th>\n",
       "      <td>4,300,576.34</td>\n",
       "    </tr>\n",
       "    <tr>\n",
       "      <th>convertible_note</th>\n",
       "      <td>1,453,438.54</td>\n",
       "    </tr>\n",
       "    <tr>\n",
       "      <th>product_crowdfunding</th>\n",
       "      <td>1,363,131.07</td>\n",
       "    </tr>\n",
       "    <tr>\n",
       "      <th>angel</th>\n",
       "      <td>958,694.47</td>\n",
       "    </tr>\n",
       "    <tr>\n",
       "      <th>seed</th>\n",
       "      <td>719,779.62</td>\n",
       "    </tr>\n",
       "    <tr>\n",
       "      <th>equity_crowdfunding</th>\n",
       "      <td>538,368.21</td>\n",
       "    </tr>\n",
       "    <tr>\n",
       "      <th>non_equity_assistance</th>\n",
       "      <td>411,203.05</td>\n",
       "    </tr>\n",
       "  </tbody>\n",
       "</table>\n",
       "</div>"
      ],
      "text/plain": [
       "                       raised_amount_usd\n",
       "funding_round_type                      \n",
       "post_ipo_debt             168,704,571.82\n",
       "post_ipo_equity            82,182,493.87\n",
       "secondary_market           79,649,630.10\n",
       "private_equity             73,308,593.03\n",
       "undisclosed                19,242,370.23\n",
       "debt_financing             17,043,526.02\n",
       "venture                    11,748,949.13\n",
       "grant                       4,300,576.34\n",
       "convertible_note            1,453,438.54\n",
       "product_crowdfunding        1,363,131.07\n",
       "angel                         958,694.47\n",
       "seed                          719,779.62\n",
       "equity_crowdfunding           538,368.21\n",
       "non_equity_assistance         411,203.05"
      ]
     },
     "execution_count": 20,
     "metadata": {},
     "output_type": "execute_result"
    }
   ],
   "source": [
    "funding_type_mean.sort_values(by='raised_amount_usd', ascending=False)"
   ]
  },
  {
   "cell_type": "code",
   "execution_count": 21,
   "id": "de6217e9",
   "metadata": {
    "scrolled": true
   },
   "outputs": [
    {
     "data": {
      "image/png": "[encoded data removed]",
      "text/plain": [
       "<Figure size 432x288 with 1 Axes>"
      ]
     },
     "metadata": {},
     "output_type": "display_data"
    }
   ],
   "source": [
    "import matplotlib.pyplot as plt\n",
    "import seaborn as sns\n",
    "\n",
    "sns.set_theme()\n",
    "singleBoxplot = sns.boxplot(y = master_frame['raised_amount_usd'])\n",
    "singleBoxplot.set_title('Spread of investment amount',fontsize =20)\n",
    "plt.yscale('log')\n",
    "plt.show()"
   ]
  },
  {
   "cell_type": "code",
   "execution_count": 22,
   "id": "3d238182",
   "metadata": {},
   "outputs": [
    {
     "data": {
      "image/png": "[encoded data removed]",
      "text/plain": [
       "<Figure size 1800x1080 with 1 Axes>"
      ]
     },
     "metadata": {},
     "output_type": "display_data"
    }
   ],
   "source": [
    "plt.figure(figsize=(25, 15))\n",
    "myBoxplot = sns.boxplot(x = 'funding_round_type', y = 'raised_amount_usd', data = master_frame)\n",
    "myBoxplot.set_title('Variation in amount raised across different funding types',fontsize =20)\n",
    "plt.yscale('log')\n",
    "plt.show()"
   ]
  },
  {
   "cell_type": "code",
   "execution_count": 23,
   "id": "1df86a72",
   "metadata": {},
   "outputs": [
    {
     "data": {
      "image/png": "[encoded data removed]",
      "text/plain": [
       "<Figure size 1440x1080 with 1 Axes>"
      ]
     },
     "metadata": {},
     "output_type": "display_data"
    }
   ],
   "source": [
    "# Plotting the count of each type of funding \n",
    "plt.figure(figsize=(20, 15))\n",
    "fundingType = sns.countplot(y=\"funding_round_type\", data=master_frame)\n",
    "fundingType.set_title('Number of investments in each funding type',fontsize =20)\n",
    "plt.show()"
   ]
  },
  {
   "cell_type": "code",
   "execution_count": 24,
   "id": "4815db99",
   "metadata": {},
   "outputs": [
    {
     "name": "stdout",
     "output_type": "stream",
     "text": [
      "['venture' 'seed' 'undisclosed' 'convertible_note' 'private_equity'\n",
      " 'debt_financing' 'angel' 'grant' 'equity_crowdfunding' 'post_ipo_equity'\n",
      " 'post_ipo_debt' 'product_crowdfunding' 'secondary_market'\n",
      " 'non_equity_assistance']\n"
     ]
    },
    {
     "data": {
      "image/png": "[encoded data removed]",
      "text/plain": [
       "<Figure size 1080x720 with 1 Axes>"
      ]
     },
     "metadata": {},
     "output_type": "display_data"
    }
   ],
   "source": [
    "print(master_frame['funding_round_type'].unique())\n",
    "limited_master_frame = master_frame[master_frame['funding_round_type'].isin(['seed', 'angel', 'venture', 'private_equity'])]\n",
    "\n",
    "plt.figure(figsize=(15, 10))\n",
    "myBoxLimited = sns.boxplot(x = 'funding_round_type', y = 'raised_amount_usd', data = limited_master_frame)\n",
    "myBoxLimited.set_title('Variation in amount raised across four funding types of interest',fontsize =20)\n",
    "plt.yscale('log')\n",
    "plt.show()"
   ]
  },
  {
   "cell_type": "code",
   "execution_count": 25,
   "id": "a4195304",
   "metadata": {},
   "outputs": [
    {
     "data": {
      "text/plain": [
       "funding_round_type\n",
       "private_equity   20,000,000.00\n",
       "venture           5,000,000.00\n",
       "angel               400,000.00\n",
       "seed                275,000.00\n",
       "Name: raised_amount_usd, dtype: float64"
      ]
     },
     "execution_count": 25,
     "metadata": {},
     "output_type": "execute_result"
    }
   ],
   "source": [
    "#limited_master_frame.groupby('funding_round_type')['raised_amount_usd'].mean().sort_values(ascending=False)\n",
    "limited_master_frame.groupby('funding_round_type')['raised_amount_usd'].median().sort_values(ascending=False)\n"
   ]
  },
  {
   "cell_type": "code",
   "execution_count": 26,
   "id": "360d1feb",
   "metadata": {},
   "outputs": [],
   "source": [
    "limited_master_frame = master_frame[master_frame['funding_round_type'].isin(['venture'])]\n",
    "top9series = limited_master_frame.groupby('country_code')['raised_amount_usd'].sum().sort_values(ascending=False)[0:9]\n",
    "top9 = limited_master_frame[limited_master_frame['country_code'].isin(top9series.index)]"
   ]
  },
  {
   "cell_type": "code",
   "execution_count": 27,
   "id": "37796029",
   "metadata": {},
   "outputs": [
    {
     "name": "stdout",
     "output_type": "stream",
     "text": [
      "['IND' 'CHN' 'CAN' 'USA' 'GBR' 'FRA' 'JPN' 'DEU' 'ISR']\n",
      "country_code\n",
      "USA   422,510,842,796.00\n",
      "CHN    39,835,418,773.00\n",
      "GBR    20,245,627,416.00\n",
      "IND    14,391,858,718.00\n",
      "CAN     9,583,332,317.00\n",
      "FRA     7,259,536,732.00\n",
      "ISR     6,907,514,579.00\n",
      "DEU     6,346,959,822.00\n",
      "JPN     3,363,676,611.00\n",
      "Name: raised_amount_usd, dtype: float64\n"
     ]
    }
   ],
   "source": [
    "print(top9['country_code'].unique())\n",
    "data_top9 = top9.groupby('country_code')['raised_amount_usd'].sum().sort_values(ascending=False)\n",
    "print(data_top9)"
   ]
  },
  {
   "cell_type": "code",
   "execution_count": 28,
   "id": "31c5a883",
   "metadata": {},
   "outputs": [
    {
     "data": {
      "text/plain": [
       "<AxesSubplot:title={'center':'Total funding amount across top-9 English countries'}, xlabel='country_code', ylabel='Raised amount USD'>"
      ]
     },
     "execution_count": 28,
     "metadata": {},
     "output_type": "execute_result"
    },
    {
     "data": {
      "image/png": "[encoded data removed]",
      "text/plain": [
       "<Figure size 576x576 with 1 Axes>"
      ]
     },
     "metadata": {},
     "output_type": "display_data"
    }
   ],
   "source": [
    "#pie, ax = plt.subplots(figsize=[15,15])\n",
    "#data_top9.plot.pie(autopct=\"%.1f%%\")\n",
    "\n",
    "pie, ax = plt.subplots(figsize=[8,8])\n",
    "plt.title('Total funding amount across top-9 English countries', fontsize=14)\n",
    "plt.ylabel('Raised amount USD', fontsize=12)\n",
    "plt.xlabel('Country code', fontsize=12)\n",
    "data_top9.plot.bar()"
   ]
  },
  {
   "cell_type": "code",
   "execution_count": 29,
   "id": "e58a8483",
   "metadata": {},
   "outputs": [],
   "source": [
    "top_3_english = top9[top9['country_code'].isin(['IND', 'USA', 'GBR'])]"
   ]
  },
  {
   "cell_type": "code",
   "execution_count": 30,
   "id": "22dc9134",
   "metadata": {},
   "outputs": [
    {
     "name": "stdout",
     "output_type": "stream",
     "text": [
      "country_code\n",
      "USA   422,510,842,796.00\n",
      "GBR    20,245,627,416.00\n",
      "IND    14,391,858,718.00\n",
      "Name: raised_amount_usd, dtype: float64\n"
     ]
    }
   ],
   "source": [
    "data_top3english = top_3_english.groupby('country_code')['raised_amount_usd'].sum().sort_values(ascending=False)\n",
    "print(data_top3english)"
   ]
  },
  {
   "cell_type": "code",
   "execution_count": 31,
   "id": "6cfdee43",
   "metadata": {},
   "outputs": [
    {
     "data": {
      "text/plain": [
       "<AxesSubplot:title={'center':'Total funding amount across top-3 English speaking countries'}, xlabel='country_code', ylabel='Raised amount USD'>"
      ]
     },
     "execution_count": 31,
     "metadata": {},
     "output_type": "execute_result"
    },
    {
     "data": {
      "image/png": "[encoded data removed]",
      "text/plain": [
       "<Figure size 576x576 with 1 Axes>"
      ]
     },
     "metadata": {},
     "output_type": "display_data"
    }
   ],
   "source": [
    "pie, ax = plt.subplots(figsize=[8,8])\n",
    "plt.title('Total funding amount across top-3 English speaking countries', fontsize=14)\n",
    "plt.ylabel('Raised amount USD', fontsize=12)\n",
    "plt.xlabel('Country code', fontsize=12)\n",
    "data_top3english.plot.bar()"
   ]
  },
  {
   "cell_type": "code",
   "execution_count": 32,
   "id": "16d2c2a0",
   "metadata": {},
   "outputs": [
    {
     "name": "stdout",
     "output_type": "stream",
     "text": [
      "Application Platforms\n",
      "Application Platforms\n"
     ]
    }
   ],
   "source": [
    "# Removing multiple categories and keeping only first\n",
    "def select_first(category_list):\n",
    "    category = category_list.split('|')\n",
    "    if len(category) > 1:\n",
    "        return category[0]\n",
    "    else:\n",
    "        return category_list\n",
    "\n",
    "print(select_first('Application Platforms|Real Time|Social Network Media'))\n",
    "print(select_first('Application Platforms'))"
   ]
  },
  {
   "cell_type": "code",
   "execution_count": 33,
   "id": "40c3165e",
   "metadata": {},
   "outputs": [
    {
     "name": "stderr",
     "output_type": "stream",
     "text": [
      "<ipython-input-33-128abf115a32>:3: SettingWithCopyWarning: \n",
      "A value is trying to be set on a copy of a slice from a DataFrame.\n",
      "Try using .loc[row_indexer,col_indexer] = value instead\n",
      "\n",
      "See the caveats in the documentation: https://pandas.pydata.org/pandas-docs/stable/user_guide/indexing.html#returning-a-view-versus-a-copy\n",
      "  top_3_english['primary_sector'] = top_3_english['category_list'].astype(str).apply(select_first)\n",
      "<ipython-input-33-128abf115a32>:4: SettingWithCopyWarning: \n",
      "A value is trying to be set on a copy of a slice from a DataFrame.\n",
      "Try using .loc[row_indexer,col_indexer] = value instead\n",
      "\n",
      "See the caveats in the documentation: https://pandas.pydata.org/pandas-docs/stable/user_guide/indexing.html#returning-a-view-versus-a-copy\n",
      "  top_3_english['primary_sector'] = top_3_english['primary_sector'].str.lower()\n"
     ]
    }
   ],
   "source": [
    "# Aligning case again -- this one bug cost me days of time!\n",
    "type(top_3_english['category_list'][0])\n",
    "top_3_english['primary_sector'] = top_3_english['category_list'].astype(str).apply(select_first)\n",
    "top_3_english['primary_sector'] = top_3_english['primary_sector'].str.lower()"
   ]
  },
  {
   "cell_type": "code",
   "execution_count": 34,
   "id": "ba4841cc",
   "metadata": {},
   "outputs": [
    {
     "name": "stdout",
     "output_type": "stream",
     "text": [
      "39018\n"
     ]
    }
   ],
   "source": [
    "top_3_english\n",
    "current_frame_length = len(top_3_english)\n",
    "print(current_frame_length)"
   ]
  },
  {
   "cell_type": "code",
   "execution_count": 35,
   "id": "36dfd112",
   "metadata": {},
   "outputs": [
    {
     "name": "stdout",
     "output_type": "stream",
     "text": [
      "<class 'pandas.core.frame.DataFrame'>\n",
      "RangeIndex: 688 entries, 0 to 687\n",
      "Data columns (total 10 columns):\n",
      " #   Column                                   Non-Null Count  Dtype \n",
      "---  ------                                   --------------  ----- \n",
      " 0   category_list                            687 non-null    object\n",
      " 1   Automotive & Sports                      688 non-null    int64 \n",
      " 2   Blanks                                   688 non-null    int64 \n",
      " 3   Cleantech / Semiconductors               688 non-null    int64 \n",
      " 4   Entertainment                            688 non-null    int64 \n",
      " 5   Health                                   688 non-null    int64 \n",
      " 6   Manufacturing                            688 non-null    int64 \n",
      " 7   News, Search and Messaging               688 non-null    int64 \n",
      " 8   Others                                   688 non-null    int64 \n",
      " 9   Social, Finance, Analytics, Advertising  688 non-null    int64 \n",
      "dtypes: int64(9), object(1)\n",
      "memory usage: 53.9+ KB\n"
     ]
    }
   ],
   "source": [
    "mapping = pd.read_csv('data/mapping.csv')\n",
    "mapping.info()"
   ]
  },
  {
   "cell_type": "code",
   "execution_count": 36,
   "id": "df9e5f02",
   "metadata": {},
   "outputs": [],
   "source": [
    "# I used this technique for getting the maximum values out of the 1-hot encoded data.\n",
    "# I also compared this to using Melt as seen from commented code, but I like this as it is compact and a\n",
    "# tiny bit more efficient\n",
    "\n",
    "mapping['category_list'] = mapping['category_list'].str.lower()\n",
    "mapping['main_sector'] = mapping.iloc[:, 1:].idxmax(axis = 1, skipna = True)\n",
    "#value_vars = list(mapping.columns[1:])\n",
    "#id_vars = list(np.setdiff1d(mapping.columns, value_vars))\n",
    "#mapping_result = pd.melt(mapping, id_vars = id_vars, value_vars = value_vars)\n",
    "#mapping_result = mapping_result[mapping_result['value']==1]\n",
    "#mapping_result = mapping_result.drop('value', axis=1)\n",
    "#mapping_result = mapping_result.rename(columns={'variable': 'main_sector'})\n",
    "#mapping_result = mapping_result.rename(columns={'category_list': 'primary_sector'})\n",
    "#mapping_result.head()"
   ]
  },
  {
   "cell_type": "code",
   "execution_count": 37,
   "id": "b27b0730",
   "metadata": {},
   "outputs": [
    {
     "name": "stdout",
     "output_type": "stream",
     "text": [
      "1                    3d\n",
      "2           3d printing\n",
      "3         3d technology\n",
      "4            accounting\n",
      "5      active lifestyle\n",
      "             ...       \n",
      "684    wine and spirits\n",
      "685            wireless\n",
      "686               women\n",
      "687        young adults\n",
      "0                   NaN\n",
      "Name: primary_sector, Length: 688, dtype: object\n",
      "Others                                     195\n",
      "Social, Finance, Analytics, Advertising    153\n",
      "Entertainment                               89\n",
      "News, Search and Messaging                  72\n",
      "Health                                      63\n",
      "Cleantech / Semiconductors                  53\n",
      "Manufacturing                               40\n",
      "Automotive & Sports                         22\n",
      "Blanks                                       1\n",
      "Name: main_sector, dtype: int64\n"
     ]
    }
   ],
   "source": [
    "mapping_result = mapping.loc[:, ('category_list', 'main_sector')]\n",
    "mapping_result = mapping_result.rename(columns={'category_list': 'primary_sector'})\n",
    "mapping_result['primary_sector'] = mapping_result['primary_sector'].replace({'0': 'na'}, regex=True)\n",
    "print(mapping_result.primary_sector.sort_values(ascending=True))\n",
    "print(mapping_result.main_sector.value_counts())"
   ]
  },
  {
   "cell_type": "code",
   "execution_count": 38,
   "id": "2f671e4f",
   "metadata": {},
   "outputs": [
    {
     "name": "stdout",
     "output_type": "stream",
     "text": [
      "<class 'pandas.core.frame.DataFrame'>\n",
      "Int64Index: 38788 entries, 0 to 38787\n",
      "Data columns (total 12 columns):\n",
      " #   Column                   Non-Null Count  Dtype  \n",
      "---  ------                   --------------  -----  \n",
      " 0   company_permalink        38788 non-null  object \n",
      " 1   funding_round_permalink  38788 non-null  object \n",
      " 2   funding_round_type       38788 non-null  object \n",
      " 3   funded_at                38788 non-null  object \n",
      " 4   raised_amount_usd        38788 non-null  float64\n",
      " 5   permalink                38788 non-null  object \n",
      " 6   name                     38788 non-null  object \n",
      " 7   category_list            38788 non-null  object \n",
      " 8   status                   38788 non-null  object \n",
      " 9   country_code             38788 non-null  object \n",
      " 10  primary_sector           38788 non-null  object \n",
      " 11  main_sector              38788 non-null  object \n",
      "dtypes: float64(1), object(11)\n",
      "memory usage: 3.8+ MB\n"
     ]
    }
   ],
   "source": [
    "# Merging using an inner join as ultimately we only need the common entries in both tables.\n",
    "final_frame = pd.merge(top_3_english, mapping_result, how='inner', on='primary_sector')\n",
    "final_frame.info()"
   ]
  },
  {
   "cell_type": "code",
   "execution_count": 39,
   "id": "b8691901",
   "metadata": {},
   "outputs": [
    {
     "name": "stdout",
     "output_type": "stream",
     "text": [
      "38788\n"
     ]
    }
   ],
   "source": [
    "#print(final_frame[final_frame['main_sector'].isin(['blank'])])\n",
    "#final_frame.drop(final_frame.index[final_frame['_merge'] == 'left_only'], inplace = True)\n",
    "new_frame_length = len(final_frame)\n",
    "print(new_frame_length)"
   ]
  },
  {
   "cell_type": "code",
   "execution_count": 40,
   "id": "5b7c04cb",
   "metadata": {},
   "outputs": [
    {
     "data": {
      "text/html": [
       "<div>\n",
       "<style scoped>\n",
       "    .dataframe tbody tr th:only-of-type {\n",
       "        vertical-align: middle;\n",
       "    }\n",
       "\n",
       "    .dataframe tbody tr th {\n",
       "        vertical-align: top;\n",
       "    }\n",
       "\n",
       "    .dataframe thead th {\n",
       "        text-align: right;\n",
       "    }\n",
       "</style>\n",
       "<table border=\"1\" class=\"dataframe\">\n",
       "  <thead>\n",
       "    <tr style=\"text-align: right;\">\n",
       "      <th></th>\n",
       "      <th>company_permalink</th>\n",
       "      <th>funding_round_permalink</th>\n",
       "      <th>funding_round_type</th>\n",
       "      <th>funded_at</th>\n",
       "      <th>raised_amount_usd</th>\n",
       "      <th>permalink</th>\n",
       "      <th>name</th>\n",
       "      <th>category_list</th>\n",
       "      <th>status</th>\n",
       "      <th>country_code</th>\n",
       "      <th>primary_sector</th>\n",
       "      <th>main_sector</th>\n",
       "    </tr>\n",
       "  </thead>\n",
       "  <tbody>\n",
       "    <tr>\n",
       "      <th>4</th>\n",
       "      <td>/organization/all-def-digital</td>\n",
       "      <td>/funding-round/452a2342fe720285c3b92e9bd927d9ba</td>\n",
       "      <td>venture</td>\n",
       "      <td>06-08-2014</td>\n",
       "      <td>5,000,000.00</td>\n",
       "      <td>/organization/all-def-digital</td>\n",
       "      <td>All Def Digital</td>\n",
       "      <td>Media</td>\n",
       "      <td>operating</td>\n",
       "      <td>USA</td>\n",
       "      <td>media</td>\n",
       "      <td>Entertainment</td>\n",
       "    </tr>\n",
       "    <tr>\n",
       "      <th>14</th>\n",
       "      <td>/organization/chefs-feed</td>\n",
       "      <td>/funding-round/adca195749ae9ace84684723fbe75e5b</td>\n",
       "      <td>venture</td>\n",
       "      <td>26-02-2015</td>\n",
       "      <td>5,000,000.00</td>\n",
       "      <td>/organization/chefs-feed</td>\n",
       "      <td>ChefsFeed</td>\n",
       "      <td>Media|Mobile|Restaurants|Technology</td>\n",
       "      <td>operating</td>\n",
       "      <td>USA</td>\n",
       "      <td>media</td>\n",
       "      <td>Entertainment</td>\n",
       "    </tr>\n",
       "    <tr>\n",
       "      <th>20</th>\n",
       "      <td>/organization/huffingtonpost</td>\n",
       "      <td>/funding-round/7f05940c4d2dfecb8e50a0e5720e5065</td>\n",
       "      <td>venture</td>\n",
       "      <td>01-08-2006</td>\n",
       "      <td>5,000,000.00</td>\n",
       "      <td>/organization/huffingtonpost</td>\n",
       "      <td>The Huffington Post</td>\n",
       "      <td>Media|News|Publishing</td>\n",
       "      <td>acquired</td>\n",
       "      <td>USA</td>\n",
       "      <td>media</td>\n",
       "      <td>Entertainment</td>\n",
       "    </tr>\n",
       "    <tr>\n",
       "      <th>21</th>\n",
       "      <td>/organization/huffingtonpost</td>\n",
       "      <td>/funding-round/9241ae16e08df17ebdc064e49e23035a</td>\n",
       "      <td>venture</td>\n",
       "      <td>01-09-2007</td>\n",
       "      <td>5,000,000.00</td>\n",
       "      <td>/organization/huffingtonpost</td>\n",
       "      <td>The Huffington Post</td>\n",
       "      <td>Media|News|Publishing</td>\n",
       "      <td>acquired</td>\n",
       "      <td>USA</td>\n",
       "      <td>media</td>\n",
       "      <td>Entertainment</td>\n",
       "    </tr>\n",
       "    <tr>\n",
       "      <th>25</th>\n",
       "      <td>/organization/matchmine</td>\n",
       "      <td>/funding-round/41ac526630da57ad6eb9d02431b17657</td>\n",
       "      <td>venture</td>\n",
       "      <td>01-09-2007</td>\n",
       "      <td>10,000,000.00</td>\n",
       "      <td>/organization/matchmine</td>\n",
       "      <td>MatchMine</td>\n",
       "      <td>Media|News|Reviews and Recommendations</td>\n",
       "      <td>closed</td>\n",
       "      <td>USA</td>\n",
       "      <td>media</td>\n",
       "      <td>Entertainment</td>\n",
       "    </tr>\n",
       "    <tr>\n",
       "      <th>...</th>\n",
       "      <td>...</td>\n",
       "      <td>...</td>\n",
       "      <td>...</td>\n",
       "      <td>...</td>\n",
       "      <td>...</td>\n",
       "      <td>...</td>\n",
       "      <td>...</td>\n",
       "      <td>...</td>\n",
       "      <td>...</td>\n",
       "      <td>...</td>\n",
       "      <td>...</td>\n",
       "      <td>...</td>\n",
       "    </tr>\n",
       "    <tr>\n",
       "      <th>38766</th>\n",
       "      <td>/organization/thredhq</td>\n",
       "      <td>/funding-round/54166cbfbb75fb604c17a94f2205570e</td>\n",
       "      <td>venture</td>\n",
       "      <td>18-09-2013</td>\n",
       "      <td>5,000,000.00</td>\n",
       "      <td>/organization/thredhq</td>\n",
       "      <td>Thredhq</td>\n",
       "      <td>Social + Mobile + Local|Social Network Media</td>\n",
       "      <td>operating</td>\n",
       "      <td>USA</td>\n",
       "      <td>social + mobile + local</td>\n",
       "      <td>Social, Finance, Analytics, Advertising</td>\n",
       "    </tr>\n",
       "    <tr>\n",
       "      <th>38771</th>\n",
       "      <td>/organization/wizrocket-technologies</td>\n",
       "      <td>/funding-round/195738852853780cc8f1220ba6fb761d</td>\n",
       "      <td>venture</td>\n",
       "      <td>03-08-2015</td>\n",
       "      <td>8,000,000.00</td>\n",
       "      <td>/organization/wizrocket-technologies</td>\n",
       "      <td>CleverTap</td>\n",
       "      <td>Consumer Behavior|Mobile Analytics|SaaS</td>\n",
       "      <td>operating</td>\n",
       "      <td>USA</td>\n",
       "      <td>consumer behavior</td>\n",
       "      <td>Social, Finance, Analytics, Advertising</td>\n",
       "    </tr>\n",
       "    <tr>\n",
       "      <th>38775</th>\n",
       "      <td>/organization/user-interface</td>\n",
       "      <td>/funding-round/ade267714c6ee533323f46a25b2db237</td>\n",
       "      <td>venture</td>\n",
       "      <td>24-01-2001</td>\n",
       "      <td>8,250,000.00</td>\n",
       "      <td>/organization/user-interface</td>\n",
       "      <td>User Interface</td>\n",
       "      <td>User Interface</td>\n",
       "      <td>operating</td>\n",
       "      <td>USA</td>\n",
       "      <td>user interface</td>\n",
       "      <td>Others</td>\n",
       "    </tr>\n",
       "    <tr>\n",
       "      <th>38777</th>\n",
       "      <td>/organization/washio</td>\n",
       "      <td>/funding-round/59026d26012c63b42fa2984c8f3c41ec</td>\n",
       "      <td>venture</td>\n",
       "      <td>09-06-2014</td>\n",
       "      <td>10,500,000.00</td>\n",
       "      <td>/organization/washio</td>\n",
       "      <td>Washio</td>\n",
       "      <td>Service Industries</td>\n",
       "      <td>operating</td>\n",
       "      <td>USA</td>\n",
       "      <td>service industries</td>\n",
       "      <td>Others</td>\n",
       "    </tr>\n",
       "    <tr>\n",
       "      <th>38781</th>\n",
       "      <td>/organization/yapta</td>\n",
       "      <td>/funding-round/2bef2981d0db9747630882cc91e42ba5</td>\n",
       "      <td>venture</td>\n",
       "      <td>20-07-2011</td>\n",
       "      <td>5,000,000.00</td>\n",
       "      <td>/organization/yapta</td>\n",
       "      <td>Yapta</td>\n",
       "      <td>Tracking|Transportation|Travel</td>\n",
       "      <td>operating</td>\n",
       "      <td>USA</td>\n",
       "      <td>tracking</td>\n",
       "      <td>Others</td>\n",
       "    </tr>\n",
       "  </tbody>\n",
       "</table>\n",
       "<p>12063 rows × 12 columns</p>\n",
       "</div>"
      ],
      "text/plain": [
       "                          company_permalink  \\\n",
       "4             /organization/all-def-digital   \n",
       "14                 /organization/chefs-feed   \n",
       "20             /organization/huffingtonpost   \n",
       "21             /organization/huffingtonpost   \n",
       "25                  /organization/matchmine   \n",
       "...                                     ...   \n",
       "38766                 /organization/thredhq   \n",
       "38771  /organization/wizrocket-technologies   \n",
       "38775          /organization/user-interface   \n",
       "38777                  /organization/washio   \n",
       "38781                   /organization/yapta   \n",
       "\n",
       "                               funding_round_permalink funding_round_type  \\\n",
       "4      /funding-round/452a2342fe720285c3b92e9bd927d9ba            venture   \n",
       "14     /funding-round/adca195749ae9ace84684723fbe75e5b            venture   \n",
       "20     /funding-round/7f05940c4d2dfecb8e50a0e5720e5065            venture   \n",
       "21     /funding-round/9241ae16e08df17ebdc064e49e23035a            venture   \n",
       "25     /funding-round/41ac526630da57ad6eb9d02431b17657            venture   \n",
       "...                                                ...                ...   \n",
       "38766  /funding-round/54166cbfbb75fb604c17a94f2205570e            venture   \n",
       "38771  /funding-round/195738852853780cc8f1220ba6fb761d            venture   \n",
       "38775  /funding-round/ade267714c6ee533323f46a25b2db237            venture   \n",
       "38777  /funding-round/59026d26012c63b42fa2984c8f3c41ec            venture   \n",
       "38781  /funding-round/2bef2981d0db9747630882cc91e42ba5            venture   \n",
       "\n",
       "        funded_at  raised_amount_usd                             permalink  \\\n",
       "4      06-08-2014       5,000,000.00         /organization/all-def-digital   \n",
       "14     26-02-2015       5,000,000.00              /organization/chefs-feed   \n",
       "20     01-08-2006       5,000,000.00          /organization/huffingtonpost   \n",
       "21     01-09-2007       5,000,000.00          /organization/huffingtonpost   \n",
       "25     01-09-2007      10,000,000.00               /organization/matchmine   \n",
       "...           ...                ...                                   ...   \n",
       "38766  18-09-2013       5,000,000.00                 /organization/thredhq   \n",
       "38771  03-08-2015       8,000,000.00  /organization/wizrocket-technologies   \n",
       "38775  24-01-2001       8,250,000.00          /organization/user-interface   \n",
       "38777  09-06-2014      10,500,000.00                  /organization/washio   \n",
       "38781  20-07-2011       5,000,000.00                   /organization/yapta   \n",
       "\n",
       "                      name                                 category_list  \\\n",
       "4          All Def Digital                                         Media   \n",
       "14               ChefsFeed           Media|Mobile|Restaurants|Technology   \n",
       "20     The Huffington Post                         Media|News|Publishing   \n",
       "21     The Huffington Post                         Media|News|Publishing   \n",
       "25               MatchMine        Media|News|Reviews and Recommendations   \n",
       "...                    ...                                           ...   \n",
       "38766              Thredhq  Social + Mobile + Local|Social Network Media   \n",
       "38771            CleverTap       Consumer Behavior|Mobile Analytics|SaaS   \n",
       "38775       User Interface                                User Interface   \n",
       "38777               Washio                            Service Industries   \n",
       "38781                Yapta                Tracking|Transportation|Travel   \n",
       "\n",
       "          status country_code           primary_sector  \\\n",
       "4      operating          USA                    media   \n",
       "14     operating          USA                    media   \n",
       "20      acquired          USA                    media   \n",
       "21      acquired          USA                    media   \n",
       "25        closed          USA                    media   \n",
       "...          ...          ...                      ...   \n",
       "38766  operating          USA  social + mobile + local   \n",
       "38771  operating          USA        consumer behavior   \n",
       "38775  operating          USA           user interface   \n",
       "38777  operating          USA       service industries   \n",
       "38781  operating          USA                 tracking   \n",
       "\n",
       "                                   main_sector  \n",
       "4                                Entertainment  \n",
       "14                               Entertainment  \n",
       "20                               Entertainment  \n",
       "21                               Entertainment  \n",
       "25                               Entertainment  \n",
       "...                                        ...  \n",
       "38766  Social, Finance, Analytics, Advertising  \n",
       "38771  Social, Finance, Analytics, Advertising  \n",
       "38775                                   Others  \n",
       "38777                                   Others  \n",
       "38781                                   Others  \n",
       "\n",
       "[12063 rows x 12 columns]"
      ]
     },
     "execution_count": 40,
     "metadata": {},
     "output_type": "execute_result"
    }
   ],
   "source": [
    "D1 = final_frame[final_frame['country_code'].isin(['USA']) & final_frame['raised_amount_usd'].ge(5000000) & final_frame['raised_amount_usd'].le(15000000)]\n",
    "D2 = final_frame[final_frame['country_code'].isin(['GBR']) & final_frame['raised_amount_usd'].ge(5000000) & final_frame['raised_amount_usd'].le(15000000)]\n",
    "D3 = final_frame[final_frame['country_code'].isin(['IND']) & final_frame['raised_amount_usd'].ge(5000000) & final_frame['raised_amount_usd'].le(15000000)]\n",
    "D1"
   ]
  },
  {
   "cell_type": "code",
   "execution_count": 41,
   "id": "243ce0a0",
   "metadata": {},
   "outputs": [
    {
     "name": "stdout",
     "output_type": "stream",
     "text": [
      "['For country = USA']\n",
      "(12063, 107757097294.0)\n",
      "\n",
      "['For country = GBR']\n",
      "(621, 5379078691.0)\n",
      "\n",
      "['For country = IND']\n",
      "(328, 2949543602.0)\n"
     ]
    }
   ],
   "source": [
    "def getCountandSum(df):\n",
    "    count = df['raised_amount_usd'].count()\n",
    "    sum = df['raised_amount_usd'].sum()\n",
    "    return (count, sum)\n",
    "print(\"For country = \" + D1['country_code'].unique())\n",
    "print(getCountandSum(D1))\n",
    "print()\n",
    "print(\"For country = \" + D2['country_code'].unique())\n",
    "print(getCountandSum(D2))\n",
    "print()\n",
    "print(\"For country = \" + D3['country_code'].unique())\n",
    "print(getCountandSum(D3))"
   ]
  },
  {
   "cell_type": "code",
   "execution_count": 42,
   "id": "3333e79f",
   "metadata": {},
   "outputs": [
    {
     "name": "stdout",
     "output_type": "stream",
     "text": [
      "['For country = USA']\n",
      "main_sector\n",
      "Others                                     2950\n",
      "Social, Finance, Analytics, Advertising    2714\n",
      "Cleantech / Semiconductors                 2350\n",
      "Name: raised_amount_usd, dtype: int64\n",
      "\n",
      "['For country = GBR']\n",
      "main_sector\n",
      "Others                                     147\n",
      "Social, Finance, Analytics, Advertising    133\n",
      "Cleantech / Semiconductors                 130\n",
      "Name: raised_amount_usd, dtype: int64\n",
      "\n",
      "['For country = IND']\n",
      "main_sector\n",
      "Others                                     110\n",
      "Social, Finance, Analytics, Advertising     60\n",
      "News, Search and Messaging                  52\n",
      "Name: raised_amount_usd, dtype: int64\n"
     ]
    }
   ],
   "source": [
    "def getTopSectorandCounts(df):\n",
    "    myTable = df.groupby('main_sector')['raised_amount_usd'].count().sort_values(ascending=False)[0:3]\n",
    "    return(myTable)\n",
    "print(\"For country = \" + D1['country_code'].unique())\n",
    "print(getTopSectorandCounts(D1))\n",
    "print()\n",
    "print(\"For country = \" + D2['country_code'].unique())\n",
    "print(getTopSectorandCounts(D2))\n",
    "print()\n",
    "print(\"For country = \" + D3['country_code'].unique())\n",
    "print(getTopSectorandCounts(D3))"
   ]
  },
  {
   "cell_type": "code",
   "execution_count": 43,
   "id": "9f1770d8",
   "metadata": {},
   "outputs": [
    {
     "name": "stdout",
     "output_type": "stream",
     "text": [
      "['For country = USA']\n",
      "main_sector\n",
      "Others                                    26,321,007,002.00\n",
      "Social, Finance, Analytics, Advertising   23,807,376,964.00\n",
      "Cleantech / Semiconductors                21,633,430,822.00\n",
      "Name: raised_amount_usd, dtype: float64\n",
      "\n",
      "['For country = GBR']\n",
      "main_sector\n",
      "Others                                    1,283,624,289.00\n",
      "Cleantech / Semiconductors                1,163,990,056.00\n",
      "Social, Finance, Analytics, Advertising   1,089,404,014.00\n",
      "Name: raised_amount_usd, dtype: float64\n",
      "\n",
      "['For country = IND']\n",
      "main_sector\n",
      "Others                                    1,013,409,507.00\n",
      "Social, Finance, Analytics, Advertising     550,549,550.00\n",
      "News, Search and Messaging                  433,834,545.00\n",
      "Name: raised_amount_usd, dtype: float64\n"
     ]
    }
   ],
   "source": [
    "def getTopSectorandAmounts(df):\n",
    "    myTable = df.groupby('main_sector')['raised_amount_usd'].sum().sort_values(ascending=False)[0:3]\n",
    "    return(myTable)\n",
    "print(\"For country = \" + D1['country_code'].unique())\n",
    "print(getTopSectorandAmounts(D1))\n",
    "print()\n",
    "print(\"For country = \" + D2['country_code'].unique())\n",
    "print(getTopSectorandAmounts(D2))\n",
    "print()\n",
    "print(\"For country = \" + D3['country_code'].unique())\n",
    "print(getTopSectorandAmounts(D3))"
   ]
  },
  {
   "cell_type": "code",
   "execution_count": 44,
   "id": "49335007",
   "metadata": {},
   "outputs": [
    {
     "name": "stdout",
     "output_type": "stream",
     "text": [
      "['For country = USA']\n",
      "company_permalink\n",
      "/organization/virtustream           64,300,000.00\n",
      "/organization/capella               54,968,051.00\n",
      "/organization/airtight-networks     54,201,907.00\n",
      "/organization/decarta               52,100,000.00\n",
      "/organization/black-duck-software   51,000,000.00\n",
      "Name: raised_amount_usd, dtype: float64\n",
      "\n",
      "In Others sector, the number 1 company is /organization/virtustream with a net investment of 64300000.0 USD\n",
      "\n",
      "['For country = GBR']\n",
      "company_permalink\n",
      "/organization/electric-cloud            37,000,000.00\n",
      "/organization/sensage                   36,250,000.00\n",
      "/organization/enigmatic                 32,500,000.00\n",
      "/organization/silverrail-technologies   29,000,000.00\n",
      "/organization/opencloud                 27,972,766.00\n",
      "Name: raised_amount_usd, dtype: float64\n",
      "\n",
      "In Others sector, the number 1 company is /organization/electric-cloud with a net investment of 37000000.0 USD\n",
      "\n",
      "['For country = IND']\n",
      "company_permalink\n",
      "/organization/firstcry-com       39,000,000.00\n",
      "/organization/myntra             38,000,000.00\n",
      "/organization/commonfloor        32,900,000.00\n",
      "/organization/pepperfry-com      28,000,000.00\n",
      "/organization/itzcash-card-ltd   25,000,000.00\n",
      "Name: raised_amount_usd, dtype: float64\n",
      "\n",
      "In Others sector, the number 1 company is /organization/firstcry-com with a net investment of 39000000.0 USD\n",
      "\n"
     ]
    }
   ],
   "source": [
    "def getTopCompanyBySum(df, sector):\n",
    "    myTable = df.where(df['main_sector'].isin([sector]))\n",
    "    return myTable.groupby('company_permalink')['raised_amount_usd'].sum().sort_values(ascending=False)\n",
    " \n",
    "print(\"For country = \" + D1['country_code'].unique())\n",
    "top_count = 0\n",
    "D1_topSectors = getTopSectorandCounts(D1).index\n",
    "D1_company = getTopCompanyBySum(D1, D1_topSectors[top_count])\n",
    "print(D1_company.head())\n",
    "print()\n",
    "print(\"In {} sector, the number {} company is {} with a net investment of {} USD\".format(D1_topSectors[top_count], 1, D1_company.index[0], D1_company[0]))\n",
    "print()\n",
    "D2_topSectors = getTopSectorandCounts(D2).index\n",
    "D2_company = getTopCompanyBySum(D2, D2_topSectors[top_count])\n",
    "print(\"For country = \" + D2['country_code'].unique())\n",
    "print(D2_company.head())\n",
    "print()\n",
    "print(\"In {} sector, the number {} company is {} with a net investment of {} USD\".format(D2_topSectors[top_count], 1, D2_company.index[0], D2_company[0]))\n",
    "print()\n",
    "D3_topSectors = getTopSectorandCounts(D3).index\n",
    "D3_company = getTopCompanyBySum(D3, D3_topSectors[top_count])\n",
    "print(\"For country = \" + D3['country_code'].unique())\n",
    "print(D3_company.head())\n",
    "print()\n",
    "print(\"In {} sector, the number {} company is {} with a net investment of {} USD\".format(D3_topSectors[top_count], 1, D3_company.index[0], D3_company[0]))\n",
    "print()\n"
   ]
  },
  {
   "cell_type": "code",
   "execution_count": 45,
   "id": "95582bf3",
   "metadata": {},
   "outputs": [
    {
     "name": "stdout",
     "output_type": "stream",
     "text": [
      "['For country = USA']\n",
      "company_permalink\n",
      "/organization/shotspotter   67,933,006.00\n",
      "/organization/demandbase    63,000,000.00\n",
      "/organization/intacct       61,800,000.00\n",
      "/organization/netbase       60,600,000.00\n",
      "/organization/lotame        59,700,000.00\n",
      "Name: raised_amount_usd, dtype: float64\n",
      "\n",
      "In Social, Finance, Analytics, Advertising sector, the number 1 company is /organization/shotspotter with a net investment of 67933006.0 USD\n",
      "\n",
      "['For country = GBR']\n",
      "company_permalink\n",
      "/organization/celltick-technologies   37,500,000.00\n",
      "/organization/mythings                34,000,000.00\n",
      "/organization/zopa                    32,900,000.00\n",
      "/organization/imagini                 28,550,000.00\n",
      "/organization/marketinvoice           25,553,007.00\n",
      "Name: raised_amount_usd, dtype: float64\n",
      "\n",
      "In Social, Finance, Analytics, Advertising sector, the number 1 company is /organization/celltick-technologies with a net investment of 37500000.0 USD\n",
      "\n",
      "['For country = IND']\n",
      "company_permalink\n",
      "/organization/manthan-systems              50,700,000.00\n",
      "/organization/komli-media                  28,000,000.00\n",
      "/organization/shopclues-com                25,000,000.00\n",
      "/organization/intarvo                      21,900,000.00\n",
      "/organization/grameen-financial-services   21,556,050.00\n",
      "Name: raised_amount_usd, dtype: float64\n",
      "\n",
      "In Social, Finance, Analytics, Advertising sector, the number 1 company is /organization/manthan-systems with a net investment of 50700000.0 USD\n",
      "\n"
     ]
    }
   ],
   "source": [
    "print(\"For country = \" + D1['country_code'].unique())\n",
    "top_count = 1\n",
    "D1_topSectors = getTopSectorandCounts(D1).index\n",
    "D1_company = getTopCompanyBySum(D1, D1_topSectors[top_count])\n",
    "print(D1_company.head())\n",
    "print()\n",
    "print(\"In {} sector, the number {} company is {} with a net investment of {} USD\".format(D1_topSectors[top_count], 1, D1_company.index[0], D1_company[0]))\n",
    "print()\n",
    "D2_topSectors = getTopSectorandCounts(D2).index\n",
    "D2_company = getTopCompanyBySum(D2, D2_topSectors[top_count])\n",
    "print(\"For country = \" + D2['country_code'].unique())\n",
    "print(D2_company.head())\n",
    "print()\n",
    "print(\"In {} sector, the number {} company is {} with a net investment of {} USD\".format(D2_topSectors[top_count], 1, D2_company.index[0], D2_company[0]))\n",
    "print()\n",
    "D3_topSectors = getTopSectorandCounts(D3).index\n",
    "D3_company = getTopCompanyBySum(D3, D3_topSectors[top_count])\n",
    "print(\"For country = \" + D3['country_code'].unique())\n",
    "print(D3_company.head())\n",
    "print()\n",
    "print(\"In {} sector, the number {} company is {} with a net investment of {} USD\".format(D3_topSectors[top_count], 1, D3_company.index[0], D3_company[0]))\n",
    "print()"
   ]
  },
  {
   "cell_type": "code",
   "execution_count": 46,
   "id": "4141da56",
   "metadata": {},
   "outputs": [
    {
     "data": {
      "image/png": "[encoded data removed]",
      "text/plain": [
       "<Figure size 1440x1008 with 1 Axes>"
      ]
     },
     "metadata": {},
     "output_type": "display_data"
    }
   ],
   "source": [
    "# Limiting our data to the relevant sectors for each country\n",
    "D1_subset = D1[D1['main_sector'].isin(D1_topSectors[0:3].tolist())]\n",
    "D2_subset = D2[D2['main_sector'].isin(D2_topSectors[0:3].tolist())]\n",
    "D3_subset = D3[D3['main_sector'].isin(D3_topSectors[0:3].tolist())]\n",
    "dataframes = [D1_subset, D2_subset, D3_subset]\n",
    "result = pd.concat(dataframes)\n",
    "plt.figure(figsize=(20, 14))\n",
    "myFigure = sns.barplot(y = 'country_code', x = 'raised_amount_usd', hue = \"main_sector\", data=result, estimator=np.sum)\n",
    "myFigure.set(xlabel='Raised amount in USD', ylabel='Country code')\n",
    "myFigure.set_title('Investments across top 3 sectors of the top 3 countries',fontsize =20)\n",
    "plt.show()"
   ]
  },
  {
   "cell_type": "code",
   "execution_count": null,
   "id": "03a1bd3a",
   "metadata": {},
   "outputs": [],
   "source": []
  }
 ],
 "metadata": {
  "kernelspec": {
   "display_name": "Python 3",
   "language": "python",
   "name": "python3"
  },
  "language_info": {
   "codemirror_mode": {
    "name": "ipython",
    "version": 3
   },
   "file_extension": ".py",
   "mimetype": "text/x-python",
   "name": "python",
   "nbconvert_exporter": "python",
   "pygments_lexer": "ipython3",
   "version": "3.8.8"
  }
 },
 "nbformat": 4,
 "nbformat_minor": 5
}
